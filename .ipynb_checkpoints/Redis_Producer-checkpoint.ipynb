{
 "cells": [
  {
   "cell_type": "code",
   "execution_count": 1,
   "id": "440701bb",
   "metadata": {
    "id": "440701bb"
   },
   "outputs": [],
   "source": [
    "import json\n",
    "\n",
    "import redis\n"
   ]
  },
  {
   "cell_type": "markdown",
   "id": "508bbe96",
   "metadata": {
    "id": "508bbe96"
   },
   "source": [
    "## 1. Connect to Redis\n",
    "\n",
    "1.1. Let's see in detail each paramter used for the connection:\n",
    "- **host:** is the ip to the server in which redis is running, in this case it's our own computer.\n",
    "- **port:** is the port used by redis, by default it's \"6379\".\n",
    "- **db:** Out of the box, every Redis instance supports 16 databases. These databases are effectively siloed off from one another, and when you run a command in one database it doesn’t affect any of the data stored in other databases in your Redis instance. Redis databases are numbered from 0 to 15 and, by default, you connect to database 0 when you connect to your Redis instance. Keep in mind both Producer and Consumer must connect to the same database ID to communicate.\n"
   ]
  },
  {
   "cell_type": "code",
   "execution_count": 2,
   "id": "31570618",
   "metadata": {
    "id": "31570618",
    "scrolled": true
   },
   "outputs": [],
   "source": [
    "# Connect to Redis\n",
    "db = redis.Redis(\n",
    "    host=\"0.0.0.0\", \n",
    "    port=\"6379\", \n",
    "    db=0\n",
    ")\n"
   ]
  },
  {
   "cell_type": "code",
   "execution_count": 3,
   "id": "e3e31bcd",
   "metadata": {
    "id": "e3e31bcd",
    "outputId": "316cc70e-9534-4f80-c6fc-fd13c1d82613"
   },
   "outputs": [
    {
     "data": {
      "text/plain": [
       "True"
      ]
     },
     "execution_count": 3,
     "metadata": {},
     "output_type": "execute_result"
    }
   ],
   "source": [
    "# This command should return True !!!\n",
    "db.ping()"
   ]
  },
  {
   "cell_type": "markdown",
   "id": "06b07856",
   "metadata": {
    "id": "06b07856"
   },
   "source": [
    "## 2. Put a message into the Redis queue\n",
    "\n",
    "We will use `lpush()` for this. This function insert the specified values at the head of the list.\n",
    "\n",
    "For more information please see [LPUSH](https://redis.io/commands/lpush/)."
   ]
  },
  {
   "cell_type": "code",
   "execution_count": 4,
   "id": "1b7522a7",
   "metadata": {
    "id": "1b7522a7",
    "outputId": "5f815075-7ed2-41d3-92b5-1efd61fa6816"
   },
   "outputs": [
    {
     "data": {
      "text/plain": [
       "1"
      ]
     },
     "execution_count": 4,
     "metadata": {},
     "output_type": "execute_result"
    }
   ],
   "source": [
    "msg = \"This is my first message! :D\"\n",
    "\n",
    "db.lpush(\n",
    "    \"app_queue\",\n",
    "    msg\n",
    ")\n"
   ]
  },
  {
   "cell_type": "markdown",
   "id": "e2509684",
   "metadata": {
    "id": "e2509684"
   },
   "source": [
    "2.1 What if we want to put something like a Python dict? We must convert it to a string, we can use `json.dumps` for that."
   ]
  },
  {
   "cell_type": "code",
   "execution_count": 5,
   "id": "57f6bd7d",
   "metadata": {
    "id": "57f6bd7d",
    "outputId": "13bb964d-5a38-4eb8-8972-2a03aedc8637"
   },
   "outputs": [
    {
     "data": {
      "text/plain": [
       "{'id': '884d74d2-deb1-4480-b829-4406e23de6e2', 'image_name': 'local.jpg'}"
      ]
     },
     "execution_count": 5,
     "metadata": {},
     "output_type": "execute_result"
    }
   ],
   "source": [
    "import uuid\n",
    "\n",
    "# Message\n",
    "msg = {\n",
    "    \"id\": str(uuid.uuid4()),\n",
    "    \"image_name\": \"local.jpg\",\n",
    "}\n",
    "\n",
    "msg"
   ]
  },
  {
   "cell_type": "code",
   "execution_count": 6,
   "id": "49f5cb0d",
   "metadata": {
    "id": "49f5cb0d",
    "outputId": "8122c62a-b91f-4257-a98d-6daada800432"
   },
   "outputs": [
    {
     "data": {
      "text/plain": [
       "'{\"id\": \"884d74d2-deb1-4480-b829-4406e23de6e2\", \"image_name\": \"local.jpg\"}'"
      ]
     },
     "execution_count": 6,
     "metadata": {},
     "output_type": "execute_result"
    }
   ],
   "source": [
    "msg_str = json.dumps(msg)\n",
    "\n",
    "msg_str"
   ]
  },
  {
   "cell_type": "code",
   "execution_count": 7,
   "id": "59be86bb",
   "metadata": {
    "id": "59be86bb",
    "outputId": "6f253442-c493-4d86-9e45-3d49d715ebf9"
   },
   "outputs": [
    {
     "data": {
      "text/plain": [
       "2"
      ]
     },
     "execution_count": 7,
     "metadata": {},
     "output_type": "execute_result"
    }
   ],
   "source": [
    "db.lpush(\n",
    "    \"app_queue\",\n",
    "    msg_str\n",
    ")\n"
   ]
  },
  {
   "cell_type": "markdown",
   "id": "bd2cc3b9",
   "metadata": {
    "id": "bd2cc3b9"
   },
   "source": [
    "## Read a message from (key: value) storage\n",
    "\n",
    "For make this work, we must ensure:\n",
    "- Both the Consumer and the Producer are connected to the same Redis database index\n",
    "- The Redis_Consumer notebook already put a message into Redis database with `key=\"f45f429e-41a4-4290-8ac1-b822576145a8\"` (code from section 3.4)\n"
   ]
  },
  {
   "cell_type": "code",
   "execution_count": 8,
   "id": "18eba9fb",
   "metadata": {
    "id": "18eba9fb",
    "outputId": "679abd88-5721-45ea-83a4-5cfe949d262d"
   },
   "outputs": [
    {
     "data": {
      "text/plain": [
       "b'{\"prediction\": \"Cat\", \"score\": 0.9999}'"
      ]
     },
     "execution_count": 8,
     "metadata": {},
     "output_type": "execute_result"
    }
   ],
   "source": [
    "db.get(\"f45f429e-41a4-4290-8ac1-b822576145a8\")"
   ]
  },
  {
   "cell_type": "code",
   "execution_count": null,
   "id": "ebd91840",
   "metadata": {},
   "outputs": [],
   "source": []
  }
 ],
 "metadata": {
  "colab": {
   "name": "Redis producer.ipynb",
   "provenance": []
  },
  "kernelspec": {
   "display_name": "Python 3 (ipykernel)",
   "language": "python",
   "name": "python3"
  },
  "language_info": {
   "codemirror_mode": {
    "name": "ipython",
    "version": 3
   },
   "file_extension": ".py",
   "mimetype": "text/x-python",
   "name": "python",
   "nbconvert_exporter": "python",
   "pygments_lexer": "ipython3",
   "version": "3.9.7"
  }
 },
 "nbformat": 4,
 "nbformat_minor": 5
}
