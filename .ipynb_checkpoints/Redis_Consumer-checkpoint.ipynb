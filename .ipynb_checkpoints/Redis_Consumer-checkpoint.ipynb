{
 "cells": [
  {
   "cell_type": "code",
   "execution_count": 1,
   "id": "58e92dfb",
   "metadata": {
    "id": "58e92dfb"
   },
   "outputs": [],
   "source": [
    "import json\n",
    "\n",
    "import redis\n"
   ]
  },
  {
   "cell_type": "markdown",
   "id": "f337ffa7",
   "metadata": {
    "id": "f337ffa7"
   },
   "source": [
    "## 1. Connect to Redis\n",
    "\n",
    "1.1. Let's see in detail each paramter used for the connection:\n",
    "- **host:** is the ip to the server in which redis is running, in this case it's our own computer.\n",
    "- **port:** is the port used by redis, by default it's \"6379\".\n",
    "- **db:** Out of the box, every Redis instance supports 16 databases. These databases are effectively siloed off from one another, and when you run a command in one database it doesn’t affect any of the data stored in other databases in your Redis instance. Redis databases are numbered from 0 to 15 and, by default, you connect to database 0 when you connect to your Redis instance. Keep in mind both Producer and Consumer must connect to the same database ID to communicate.\n"
   ]
  },
  {
   "cell_type": "code",
   "execution_count": 2,
   "id": "f0330ab9",
   "metadata": {
    "id": "f0330ab9"
   },
   "outputs": [],
   "source": [
    "# Connect to Redis\n",
    "db = redis.Redis(\n",
    "    host=\"0.0.0.0\", \n",
    "    port=\"6379\", \n",
    "    db=0\n",
    ")\n"
   ]
  },
  {
   "cell_type": "code",
   "execution_count": 3,
   "id": "5e5907b6",
   "metadata": {
    "id": "5e5907b6",
    "outputId": "903f2918-515e-44ba-8f10-05a722b0ca81"
   },
   "outputs": [
    {
     "data": {
      "text/plain": [
       "True"
      ]
     },
     "execution_count": 3,
     "metadata": {},
     "output_type": "execute_result"
    }
   ],
   "source": [
    "# This command should return True !!!\n",
    "db.ping()"
   ]
  },
  {
   "cell_type": "markdown",
   "id": "d6d5bc2d",
   "metadata": {
    "id": "d6d5bc2d"
   },
   "source": [
    "## 2. Read a message from the Redis queue\n",
    "\n",
    "*Tip:* As we did for Redis database, we also must connect to the same queue as the consumer to read the messages.\n",
    "\n",
    "For reading messages from the queue we can use `brpop()`. It will remove and return the last element of the list. If the list is empty, it will block the connection, waiting for some new element to appear.\n",
    "\n",
    "For more information please see [BRPOP](https://redis.io/commands/brpop/)."
   ]
  },
  {
   "cell_type": "code",
   "execution_count": 5,
   "id": "5a11984e",
   "metadata": {
    "id": "5a11984e",
    "outputId": "657f9331-bc50-48fc-a94d-cdf467b81266",
    "scrolled": true
   },
   "outputs": [
    {
     "data": {
      "text/plain": [
       "(b'app_queue',\n",
       " b'{\"id\": \"884d74d2-deb1-4480-b829-4406e23de6e2\", \"image_name\": \"local.jpg\"}')"
      ]
     },
     "execution_count": 5,
     "metadata": {},
     "output_type": "execute_result"
    }
   ],
   "source": [
    "queue_name, msg = db.brpop(\"app_queue\")\n",
    "\n",
    "queue_name, msg"
   ]
  },
  {
   "cell_type": "markdown",
   "id": "eecf0533",
   "metadata": {
    "id": "eecf0533"
   },
   "source": [
    "2.1. If the output from Redis is a Pyton dict converted as string, we can recover it back using `json.loads`."
   ]
  },
  {
   "cell_type": "code",
   "execution_count": 6,
   "id": "bf40ab39",
   "metadata": {
    "id": "bf40ab39",
    "outputId": "36dc82cc-9ab8-45d6-d9c1-cecc4825a3cd",
    "scrolled": true
   },
   "outputs": [
    {
     "data": {
      "text/plain": [
       "{'id': '884d74d2-deb1-4480-b829-4406e23de6e2', 'image_name': 'local.jpg'}"
      ]
     },
     "execution_count": 6,
     "metadata": {},
     "output_type": "execute_result"
    }
   ],
   "source": [
    "# This will only work if msg is in JSON format\n",
    "msg = json.loads(msg)\n",
    "msg"
   ]
  },
  {
   "cell_type": "markdown",
   "id": "c9e9bec2",
   "metadata": {
    "id": "c9e9bec2"
   },
   "source": [
    "## 3. Using Redis database (Hash table)\n",
    "\n",
    "3.1. Now, we will show you how to store a message in Redis using a key and a value"
   ]
  },
  {
   "cell_type": "code",
   "execution_count": 7,
   "id": "fdeb3229",
   "metadata": {
    "id": "fdeb3229",
    "outputId": "a352a016-6b25-45e2-8595-7b6709a4cdc8"
   },
   "outputs": [
    {
     "data": {
      "text/plain": [
       "True"
      ]
     },
     "execution_count": 7,
     "metadata": {},
     "output_type": "execute_result"
    }
   ],
   "source": [
    "db.set(\"0\", \"It's a dog!\")\n"
   ]
  },
  {
   "cell_type": "markdown",
   "id": "9866a0af",
   "metadata": {
    "id": "9866a0af"
   },
   "source": [
    "3.2. After we add something to Redis using `set()`, that `(key, value)` pair will remain stored unless we remove it:"
   ]
  },
  {
   "cell_type": "code",
   "execution_count": 8,
   "id": "3ab35634",
   "metadata": {
    "id": "3ab35634"
   },
   "outputs": [
    {
     "data": {
      "text/plain": [
       "b\"It's a dog!\""
      ]
     },
     "execution_count": 8,
     "metadata": {},
     "output_type": "execute_result"
    }
   ],
   "source": [
    "db.get(\"0\")"
   ]
  },
  {
   "cell_type": "code",
   "execution_count": 9,
   "id": "75104342",
   "metadata": {
    "id": "75104342"
   },
   "outputs": [
    {
     "data": {
      "text/plain": [
       "b\"It's a dog!\""
      ]
     },
     "execution_count": 9,
     "metadata": {},
     "output_type": "execute_result"
    }
   ],
   "source": [
    "db.get(\"0\")"
   ]
  },
  {
   "cell_type": "markdown",
   "id": "1b67a2bd",
   "metadata": {},
   "source": [
    "3.3. Now if we delete it, `db.get(\"0\")` should return nothing."
   ]
  },
  {
   "cell_type": "code",
   "execution_count": 10,
   "id": "5eddb6d0",
   "metadata": {
    "id": "5eddb6d0"
   },
   "outputs": [
    {
     "data": {
      "text/plain": [
       "1"
      ]
     },
     "execution_count": 10,
     "metadata": {},
     "output_type": "execute_result"
    }
   ],
   "source": [
    "db.delete(\"0\")"
   ]
  },
  {
   "cell_type": "code",
   "execution_count": 11,
   "id": "504a0e6d",
   "metadata": {
    "id": "504a0e6d"
   },
   "outputs": [],
   "source": [
    "db.get(\"0\")"
   ]
  },
  {
   "cell_type": "markdown",
   "id": "0c93d932",
   "metadata": {
    "id": "af91009e"
   },
   "source": [
    "3.4. We can also store Python dicts here, but first we must convert them to string"
   ]
  },
  {
   "cell_type": "code",
   "execution_count": 12,
   "id": "4a52a6d1",
   "metadata": {
    "id": "4a52a6d1"
   },
   "outputs": [
    {
     "data": {
      "text/plain": [
       "True"
      ]
     },
     "execution_count": 12,
     "metadata": {},
     "output_type": "execute_result"
    }
   ],
   "source": [
    "msg_id = \"f45f429e-41a4-4290-8ac1-b822576145a8\"\n",
    "\n",
    "msg_content = {\n",
    "    \"prediction\": \"Cat\",\n",
    "    \"score\": 0.9999,\n",
    "}\n",
    "\n",
    "# Here, you can see we use `json.dumps` to\n",
    "# serialize our dict into a JSON formatted string.\n",
    "db.set(msg_id, json.dumps(msg_content))\n"
   ]
  },
  {
   "cell_type": "code",
   "execution_count": null,
   "id": "ac95001c",
   "metadata": {
    "id": "ac95001c"
   },
   "outputs": [],
   "source": []
  }
 ],
 "metadata": {
  "colab": {
   "name": "Redis consumer.ipynb",
   "provenance": []
  },
  "interpreter": {
   "hash": "aee8b7b246df8f9039afb4144a1f6fd8d2ca17a180786b69acc140d282b71a49"
  },
  "kernelspec": {
   "display_name": "Python 3 (ipykernel)",
   "language": "python",
   "name": "python3"
  },
  "language_info": {
   "codemirror_mode": {
    "name": "ipython",
    "version": 3
   },
   "file_extension": ".py",
   "mimetype": "text/x-python",
   "name": "python",
   "nbconvert_exporter": "python",
   "pygments_lexer": "ipython3",
   "version": "3.9.7"
  }
 },
 "nbformat": 4,
 "nbformat_minor": 5
}
